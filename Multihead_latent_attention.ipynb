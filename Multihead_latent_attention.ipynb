{
 "cells": [
  {
   "cell_type": "code",
   "execution_count": 1,
   "id": "1dd4719b",
   "metadata": {},
   "outputs": [],
   "source": [
    "import torch \n",
    "import torch.nn as nn"
   ]
  },
  {
   "cell_type": "code",
   "execution_count": 2,
   "id": "68339f8c",
   "metadata": {},
   "outputs": [],
   "source": [
    "class MultiHeadLatentAttention(nn.Module):\n",
    "    def __init__(self, d_model, num_heads,d_latent,dropout = 0.0):\n",
    "        super().__init__()\n",
    "        assert d_model % num_heads == 0, \"d_model must be divisible by num_heads\"\n",
    "\n",
    "        self.d_model = d_model\n",
    "        self.num_heads = num_heads\n",
    "        self.d_head= d_model // num_heads\n",
    "        self.d_latent = d_latent\n",
    "\n",
    "        self.W_q = nn.Linear(d_model, d_model)\n",
    "        self.W_dkv = nn.Linear(d_model, d_latent)\n",
    "\n",
    "        self.W_uk = nn.Linear(d_latent, d_model)\n",
    "        self.W_uv = nn.Linear(d_latent, d_model)\n",
    "\n",
    "        self.W_o = nn.Linear(d_model, d_model)\n",
    "\n",
    "        self.dropout = nn.Dropout(dropout)\n",
    "\n",
    "        self.register_buffer('mask',torch.triu( torch.ones(1,1,1024,1024),diagonal=1).bool())\n",
    "\n",
    "    def forward(self, x):\n",
    "        batch_size, seq_len, _ = x.shape\n",
    "\n",
    "        q = self.W_q(x).view(batch_size, seq_len, self.num_heads, self.d_head).transpose(1, 2)\n",
    "        c_kv = self.W_dkv(x) # shape : (batch,seq_len,d_latent)\n",
    "\n",
    "        k = self.W_uk(c_kv).view(batch_size,seq_len,self.num_heads,self.d_head).transpose(1,2)\n",
    "        v = self.W_uv(c_kv).view(batch_size,seq_len,self.num_heads,self.d_head).transpose(1,2)\n",
    "\n",
    "        attn_scores = torch.matmul(q, k.transpose(-2, -1)) / (self.d_head ** 0.5)\n",
    "\n",
    "        #apply causal mask\n",
    "        attn_scores = attn_scores.masked_fill(self.mask[:,:,:seq_len,:seq_len],float('-inf'))\n",
    "\n",
    "        attn_weights = torch.softmax(attn_scores, dim=-1)\n",
    "        attn_weights = self.dropout(attn_weights)\n",
    "\n",
    "        context_vector = (attn_weights @ v).transpose(1, 2).contiguous().view(batch_size, seq_len, self.d_model)\n",
    "\n",
    "        output = self.W_o(context_vector)\n",
    "        return output\n",
    "        \n",
    "\n"
   ]
  },
  {
   "cell_type": "code",
   "execution_count": 3,
   "id": "1b44b7fa",
   "metadata": {},
   "outputs": [],
   "source": [
    "d_model = 512\n",
    "num_heads = 8\n",
    "d_latent = 128\n",
    "batch_size = 4\n",
    "seq_len = 64\n",
    "\n"
   ]
  },
  {
   "cell_type": "code",
   "execution_count": 4,
   "id": "ccf61a9f",
   "metadata": {},
   "outputs": [],
   "source": [
    "mla_layer = MultiHeadLatentAttention(d_model, num_heads,d_latent,dropout=0.1)"
   ]
  },
  {
   "cell_type": "code",
   "execution_count": 5,
   "id": "a7d3a979",
   "metadata": {},
   "outputs": [],
   "source": [
    "dummy_input = torch.randn(batch_size, seq_len, d_model)"
   ]
  },
  {
   "cell_type": "code",
   "execution_count": 6,
   "id": "074c2aef",
   "metadata": {},
   "outputs": [],
   "source": [
    "output = mla_layer(dummy_input)\n"
   ]
  },
  {
   "cell_type": "code",
   "execution_count": 7,
   "id": "531c4beb",
   "metadata": {},
   "outputs": [
    {
     "name": "stdout",
     "output_type": "stream",
     "text": [
      "MLA Layer successful!\n",
      "Input shape: torch.Size([4, 64, 512])\n",
      "Output shape: torch.Size([4, 64, 512])\n"
     ]
    }
   ],
   "source": [
    "print(\"MLA Layer successful!\")\n",
    "print(f\"Input shape: {dummy_input.shape}\")\n",
    "print(f\"Output shape: {output.shape}\")\n",
    "     "
   ]
  },
  {
   "cell_type": "code",
   "execution_count": null,
   "id": "b761255b",
   "metadata": {},
   "outputs": [],
   "source": []
  }
 ],
 "metadata": {
  "kernelspec": {
   "display_name": "idk",
   "language": "python",
   "name": "python3"
  },
  "language_info": {
   "codemirror_mode": {
    "name": "ipython",
    "version": 3
   },
   "file_extension": ".py",
   "mimetype": "text/x-python",
   "name": "python",
   "nbconvert_exporter": "python",
   "pygments_lexer": "ipython3",
   "version": "3.11.10"
  }
 },
 "nbformat": 4,
 "nbformat_minor": 5
}
