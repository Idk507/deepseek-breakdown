{
 "cells": [
  {
   "cell_type": "code",
   "execution_count": 2,
   "id": "eb305ee8",
   "metadata": {},
   "outputs": [
    {
     "name": "stderr",
     "output_type": "stream",
     "text": [
      "C:\\Users\\dhanu\\AppData\\Roaming\\Python\\Python311\\site-packages\\tqdm\\auto.py:21: TqdmWarning: IProgress not found. Please update jupyter and ipywidgets. See https://ipywidgets.readthedocs.io/en/stable/user_install.html\n",
      "  from .autonotebook import tqdm as notebook_tqdm\n"
     ]
    }
   ],
   "source": [
    "import torch\n",
    "import torch.nn as nn \n",
    "import time \n",
    "from transformers import GPT2LMHeadModel, GPT2Tokenizer"
   ]
  },
  {
   "cell_type": "code",
   "execution_count": 3,
   "id": "172e82bd",
   "metadata": {},
   "outputs": [],
   "source": [
    "tokenizer = GPT2Tokenizer.from_pretrained(\"gpt2\")\n",
    "\n",
    "model = GPT2LMHeadModel.from_pretrained(\"gpt2\")"
   ]
  },
  {
   "cell_type": "code",
   "execution_count": 4,
   "id": "b4cf0814",
   "metadata": {},
   "outputs": [],
   "source": [
    "prompt = \"DeepSeek is a revolutionary search engine that leverages the power of AI to provide users with the most relevant and accurate search results. Unlike traditional search engines that rely on keyword matching, DeepSeek uses advanced natural language processing techniques to understand the context and intent behind each query. This allows it to deliver results that are not only more precise but also more personalized to the user's needs. With its intuitive interface and lightning-fast response times, DeepSeek is poised to become the go-to search engine for users around the world.\"\n"
   ]
  },
  {
   "cell_type": "code",
   "execution_count": 5,
   "id": "e8abb763",
   "metadata": {},
   "outputs": [],
   "source": [
    "inputs = tokenizer(prompt, return_tensors=\"pt\")\n"
   ]
  },
  {
   "cell_type": "code",
   "execution_count": 6,
   "id": "12326a3d",
   "metadata": {},
   "outputs": [],
   "source": [
    "input_ids = inputs.input_ids"
   ]
  },
  {
   "cell_type": "code",
   "execution_count": 7,
   "id": "1fcc965e",
   "metadata": {},
   "outputs": [
    {
     "name": "stdout",
     "output_type": "stream",
     "text": [
      "Input IDs shape: torch.Size([1, 108])\n"
     ]
    }
   ],
   "source": [
    "print(f'Input IDs shape: {input_ids.shape}')  # (1, sequence_length)"
   ]
  },
  {
   "cell_type": "code",
   "execution_count": 8,
   "id": "bc074f3f",
   "metadata": {},
   "outputs": [
    {
     "name": "stdout",
     "output_type": "stream",
     "text": [
      "\n",
      "\n",
      "DeepSeek is a revolutionary search engine that leverages the power of AI to provide users"
     ]
    }
   ],
   "source": [
    "for _ in range(20):\n",
    "    # Pass the entire sequence to the model\n",
    "    outputs = model(input_ids)\n",
    "    logits = outputs.logits\n",
    "\n",
    "    # Get the logits for the very last token\n",
    "    next_token_logits = logits[:, -1, :]\n",
    "\n",
    "    # Get the ID of the most likely next token (greedy decoding)\n",
    "    next_token_id = torch.argmax(next_token_logits, dim=-1).unsqueeze(-1)\n",
    "\n",
    "    # Append the new token ID to the input sequence\n",
    "    input_ids = torch.cat([input_ids, next_token_id], dim=-1)\n",
    "\n",
    "    # Decode and print the new token\n",
    "    new_token = tokenizer.decode(next_token_id[0])\n",
    "    print(new_token, end=\"\", flush=True)"
   ]
  },
  {
   "cell_type": "markdown",
   "id": "0522c89e",
   "metadata": {},
   "source": [
    "# token by toekn generation process in a autoregressive model .\n",
    "* entire sequence is passed through the model at each step\n",
    "* extract only the logits for last token position\n",
    "* select the most likely next token \n",
    "* append this token to our sequence and repeat \n",
    "\n"
   ]
  },
  {
   "cell_type": "code",
   "execution_count": 9,
   "id": "ecc8a435",
   "metadata": {},
   "outputs": [],
   "source": [
    "# speedup of kv caching\n",
    "\n",
    "prompt = \"DeepSeek is a revolutionary search engine that leverages the power of AI to provide users with the most relevant and accurate search results. Unlike traditional search engines that rely on keyword matching, DeepSeek uses advanced natural language processing techniques to understand the context and intent behind each query. This allows it to deliver results that are not only more precise but also more personalized to the user's needs. With its intuitive interface and lightning-fast response times, DeepSeek is poised to become the go-to search engine for users around the world.\"\n",
    "inputs = tokenizer(prompt, return_tensors=\"pt\")\n",
    "input_ids = inputs.input_ids\n",
    "attention_mask = inputs.attention_mask"
   ]
  },
  {
   "cell_type": "code",
   "execution_count": 10,
   "id": "778526e9",
   "metadata": {},
   "outputs": [
    {
     "name": "stderr",
     "output_type": "stream",
     "text": [
      "Setting `pad_token_id` to `eos_token_id`:50256 for open-end generation.\n"
     ]
    }
   ],
   "source": [
    "#time wihtout kv caching\n",
    "\n",
    "start_time_without_cache = time.time()\n",
    "\n",
    "output_without_cache = model.generate(\n",
    "    input_ids=input_ids,\n",
    "    max_new_tokens = 100,\n",
    "    use_cache=False,\n",
    "    attention_mask=attention_mask\n",
    ")"
   ]
  },
  {
   "cell_type": "code",
   "execution_count": 11,
   "id": "95a3c51d",
   "metadata": {},
   "outputs": [
    {
     "name": "stdout",
     "output_type": "stream",
     "text": [
      "\n",
      "Time taken without KV caching: 20.6008 seconds\n"
     ]
    }
   ],
   "source": [
    "end_time_without_cache = time.time()\n",
    "duration_without_cache = end_time_without_cache - start_time_without_cache\n",
    "print(f\"\\nTime taken without KV caching: {duration_without_cache:.4f} seconds\")"
   ]
  },
  {
   "cell_type": "code",
   "execution_count": 12,
   "id": "6aa8a436",
   "metadata": {},
   "outputs": [
    {
     "name": "stderr",
     "output_type": "stream",
     "text": [
      "Setting `pad_token_id` to `eos_token_id`:50256 for open-end generation.\n"
     ]
    },
    {
     "name": "stdout",
     "output_type": "stream",
     "text": [
      "Time taken with KV caching: 7.0046 seconds\n"
     ]
    }
   ],
   "source": [
    "# timing with kv caching\n",
    "start_time_with_cache = time.time()\n",
    "output_with_cache = model.generate(\n",
    "    input_ids=input_ids,\n",
    "    max_new_tokens=100,\n",
    "    use_cache=True,\n",
    "    attention_mask=attention_mask\n",
    ")\n",
    "end_time_with_cache = time.time()\n",
    "duration_with_cache = end_time_with_cache - start_time_with_cache\n",
    "print(f\"Time taken with KV caching: {duration_with_cache:.4f} seconds\")"
   ]
  },
  {
   "cell_type": "code",
   "execution_count": 13,
   "id": "b8cd0c6b",
   "metadata": {},
   "outputs": [
    {
     "name": "stdout",
     "output_type": "stream",
     "text": [
      "Speedup with KV caching: 2.94x\n"
     ]
    }
   ],
   "source": [
    "#calculate and print time with kv caching\n",
    "speedup = duration_without_cache / duration_with_cache\n",
    "print(f\"Speedup with KV caching: {speedup:.2f}x\")"
   ]
  },
  {
   "cell_type": "markdown",
   "id": "1fe550a2",
   "metadata": {},
   "source": [
    "# Key value caching : the first generation solution"
   ]
  },
  {
   "cell_type": "markdown",
   "id": "f7b527cc",
   "metadata": {},
   "source": [
    "The key-value (KV) cache is the foundational technique for addressing the inference bottleneck in transformer models like DeepSeek. The key insight is simple but powerful:\n",
    "\n",
    "Since previous tokens don't change during generation, their key and value projections can be computed once and reused.\n",
    "\n",
    "How KV Caching Works:\n",
    "\n",
    "Initial Computation: For the first token, compute Q, K, V as usual\n",
    "\n",
    "Storage: Save the K, V tensors in a \"cache\"\n",
    "\n",
    "Subsequent Tokens:\n",
    "\n",
    "Only compute Q, K, V for the new token\n",
    "\n",
    "Retrieve previous K, V from the cache\n",
    "\n",
    "Concatenate the new K, V with the cached ones\n",
    "\n",
    "Store the expanded K, V in the cache\n",
    "\n",
    "Result: Each new token only needs to compute its own key-value pair rather \n",
    "than recomputing for all tokens\n",
    "\n",
    "This reduces the computational complexity from O(n²) to O(n) per token, where n is the sequence length."
   ]
  },
  {
   "cell_type": "markdown",
   "id": "3cb7ae3b",
   "metadata": {},
   "source": [
    "Ememory computation trade off : \n",
    "the kv cache trades increased memory usage for significantly reduced computations :\n",
    "\n",
    "* MEmory usage : Increase linearly with sequence length \n",
    "* Computation : Dramatically reduced for long sequences\n"
   ]
  },
  {
   "cell_type": "markdown",
   "id": "e76a0d9a",
   "metadata": {},
   "source": [
    "# From KV Cache to advanced attention mecahnusm \n",
    "\n",
    "while the key value cache improves inference speed,models like Deepseek required optimization to handle their massive scale efficiently .The KV cache serves as the foundations for more advanced attention mechanism \n",
    "\n",
    "The Evolution Path : \n",
    "\n",
    "* KV  cache (first generation) : The basic optimization that have explored\n",
    "* multi query attention : shared K/V projection across attention heads\n",
    "* Grouped- query attention : A middle ground between standard attention and MQA \n",
    "* Multi Head Latent Attention : Advanced tech \n"
   ]
  },
  {
   "cell_type": "markdown",
   "id": "4abbf5e7",
   "metadata": {},
   "source": [
    "# Multi Query Attention (MQA) :\n",
    "\n",
    "Standard multi head attention required unique K,V projection for each attention head which increases the KV cache size proportionally to the number of heads . MQA address this by : \n",
    "* Using a single shared K,v projection across all the attention heads \n",
    "* Maination separate Q projection for each head\n",
    "\n",
    "this significantly reduces the memory requirements during the inference while maintaining the most of the model's accuracy"
   ]
  },
  {
   "attachments": {
    "image.png": {
     "image/png": "[encoded data removed]"
    }
   },
   "cell_type": "markdown",
   "id": "db5cebaa",
   "metadata": {},
   "source": [
    "# Group Query Attention :\n",
    "\n",
    "While MQA significantly reduces the memory usage ,it can sometimes degrade model quality .Deepseek models use Grouped query attention as balanced approach :\n",
    "\n",
    "* Group Attention heads into clusers \n",
    "* Each group shares the same K,V projection\n",
    "* Queris reman separate for each head\n",
    "\n",
    "GQA offers favorable trade off :\n",
    "\n",
    "* Better quality than MQA \n",
    "* More efficient than standard multi head attention \n",
    "* Well suited for Deepseek massive scale\n",
    "\n",
    "![image.png](attachment:image.png)"
   ]
  },
  {
   "cell_type": "code",
   "execution_count": 22,
   "id": "e0e74b80",
   "metadata": {},
   "outputs": [],
   "source": [
    "# impementing an MQA layers from scratch\n",
    "\n",
    "class MultiQueryAttention(nn.Module):\n",
    "    def __init__(self,d_model,num_heads,dropout = 0.0):\n",
    "        super().__init__()\n",
    "        assert d_model % num_heads == 0, \"d_model must be divisible by num_heads\"\n",
    "\n",
    "        self.d_model = d_model\n",
    "        self.num_heads = num_heads\n",
    "        self.d_head = d_model // num_heads\n",
    "\n",
    "        self.W_q = nn.Linear(d_model, d_model)\n",
    "        self.W_k = nn.Linear(d_model, self.d_head)\n",
    "        self.W_v = nn.Linear(d_model, self.d_head)\n",
    "\n",
    "        self.W_o = nn.Linear(d_model, d_model)\n",
    "\n",
    "        self.dropout = nn.Dropout(dropout)\n",
    "        self.register_buffer('mask',torch.triu(torch.ones(1,1,1024,1024),diagonal = 1))\n",
    "\n",
    "    def forward(self, x):\n",
    "        batch_size ,seq_len, d_model = x.size()\n",
    "\n",
    "        # query : (B, num_heads,seq_len, d_head)\n",
    "\n",
    "        q = self.W_q(x).view(batch_size, seq_len,self.num_heads,self.d_head).transpose(1,2)\n",
    "        # key, value : (B, 1, seq_len, d_head)\n",
    "        k = self.W_k(x).view(batch_size, seq_len,1,self.d_head).transpose(1,2)\n",
    "        v = self.W_v(x).view(batch_size, seq_len,1,self.d_head).transpose(1,2)\n",
    "\n",
    "        #repeat K and V for each query head\n",
    "        k = k.repeat(1,self.num_heads,1,1)\n",
    "        v = v.repeat(1,self.num_heads,1,1)\n",
    "\n",
    "        attn_scores = (q @ k.transpose(-2,-1)) / (self.d_head ** 0.5)\n",
    "\n",
    "        #apply casual mask\n",
    "\n",
    "        attn_scores = attn_scores.masked_fill(self.mask[:,:,:seq_len,:seq_len] == 0, float('-inf'))\n",
    "\n",
    "        # Compute attention weights (softmax over last dimension)\n",
    "        attn_weights = torch.softmax(attn_scores, dim=-1)\n",
    "        attn_weights = self.dropout(attn_weights)\n",
    "\n",
    "        context_vector = (attn_weights @ v).transpose(1,2).contiguous().view(batch_size,seq_len,self.d_model)\n",
    "        output = self.W_o(context_vector)\n",
    "        return output\n",
    "        "
   ]
  },
  {
   "cell_type": "code",
   "execution_count": 23,
   "id": "4cb44668",
   "metadata": {},
   "outputs": [],
   "source": [
    "d_model = 512\n",
    "num_heads = 8\n",
    "batch_size = 2\n",
    "seq_len = 64\n"
   ]
  },
  {
   "cell_type": "code",
   "execution_count": 24,
   "id": "f857e34f",
   "metadata": {},
   "outputs": [
    {
     "name": "stdout",
     "output_type": "stream",
     "text": [
      "Output shape: torch.Size([2, 64, 512])\n"
     ]
    }
   ],
   "source": [
    "mqa_layer = MultiQueryAttention(d_model,num_heads,dropout=0.1)\n",
    "dummy_input = torch.randn(batch_size,seq_len,d_model)\n",
    "output = mqa_layer(dummy_input)\n",
    "\n",
    "print(f\"Output shape: {output.shape}\")  # Should be (batch_size, seq_len, d_model)\n",
    "# --- IGNORE ---\n",
    "# Autoregressive Generation with Optimizations\n"
   ]
  },
  {
   "cell_type": "markdown",
   "id": "0db30221",
   "metadata": {},
   "source": [
    "# Multi Query Attention (MQA) :\n",
    "\n",
    "1. Query projection maps to the full model dimension \n",
    "2. Key and value projection map to just a single head dimenstion \n",
    "3. We use repeat() to duplicate the single key and value for all the query heads"
   ]
  },
  {
   "cell_type": "code",
   "execution_count": 34,
   "id": "d42463cf",
   "metadata": {},
   "outputs": [],
   "source": [
    "class GroupedQueryAttention(nn.Module):\n",
    "    def __init__(self, d_model, num_heads, num_groups, dropout=0.0, max_seq_len: int = 1024):\n",
    "        super().__init__()\n",
    "        assert d_model % num_heads == 0, \"d_model must be divisible by num_heads\"\n",
    "        assert num_heads % num_groups == 0, \"num_heads must be divisible by num_groups\"\n",
    "\n",
    "        self.d_model = d_model\n",
    "        self.num_heads = num_heads\n",
    "        self.num_groups = num_groups\n",
    "        self.d_head = d_model // num_heads\n",
    "\n",
    "        self.W_q = nn.Linear(d_model, d_model)\n",
    "        self.W_k = nn.Linear(d_model, self.num_groups * self.d_head) # Grouped projection for K\n",
    "        self.W_v = nn.Linear(d_model, self.num_groups * self.d_head) # Grouped projection for V\n",
    "        self.W_o = nn.Linear(d_model, d_model)\n",
    "\n",
    "        self.dropout = nn.Dropout(dropout)\n",
    "        self._register_mask_buffer(max_seq_len)\n",
    "\n",
    "    def _register_mask_buffer(self, max_seq_len):\n",
    "        if max_seq_len > 0:\n",
    "            mask = torch.triu(torch.ones(1, 1, max_seq_len, max_seq_len, dtype=torch.bool), diagonal=1)\n",
    "            self.register_buffer(\"causal_mask\", mask, persistent=False)\n",
    "        else:\n",
    "            self.causal_mask = None\n",
    "\n",
    "    def _get_causal_mask(self, seq_len, device):\n",
    "        if self.causal_mask is not None and self.causal_mask.size(-1) >= seq_len:\n",
    "            return self.causal_mask[:, :, :seq_len, :seq_len]\n",
    "        # Dynamically create mask if needed\n",
    "        return torch.triu(torch.ones(1, 1, seq_len, seq_len, dtype=torch.bool, device=device), diagonal=1)\n",
    "\n",
    "    def forward(self, x):\n",
    "        B, T, _ = x.shape\n",
    "\n",
    "        # Query: (B, num_heads, T, d_head)\n",
    "        q = self.W_q(x).view(B, T, self.num_heads, self.d_head).transpose(1, 2)\n",
    "\n",
    "        # Key & Value: (B, num_groups, T, d_head)\n",
    "        k = self.W_k(x).view(B, T, self.num_groups, self.d_head).transpose(1, 2)\n",
    "        v = self.W_v(x).view(B, T, self.num_groups, self.d_head).transpose(1, 2)\n",
    "\n",
    "        heads_per_group = self.num_heads // self.num_groups\n",
    "\n",
    "        # Repeat K and V to match query heads\n",
    "        k = k.repeat_interleave(heads_per_group, dim=1) # (B, num_heads, T, d_head)\n",
    "        v = v.repeat_interleave(heads_per_group, dim=1) # (B, num_heads, T, d_head)\n",
    "\n",
    "        attn_scores = (q @ k.transpose(-2, -1)) * (self.d_head**-0.5)\n",
    "\n",
    "        causal_mask = self._get_causal_mask(T, x.device)\n",
    "        attn_scores = attn_scores.masked_fill(causal_mask, float(\"-inf\"))\n",
    "\n",
    "        attn_weights = torch.softmax(attn_scores, dim=-1)\n",
    "        attn_weights = self.dropout(attn_weights)\n",
    "\n",
    "        context = (attn_weights @ v).transpose(1, 2).contiguous().view(B, T, self.d_model)\n",
    "\n",
    "        return self.W_o(context)\n"
   ]
  },
  {
   "cell_type": "code",
   "execution_count": 35,
   "id": "a14cf4fa",
   "metadata": {},
   "outputs": [
    {
     "name": "stdout",
     "output_type": "stream",
     "text": [
      "GQA Layer successful!\n",
      "Input shape: torch.Size([4, 64, 512])\n",
      "Output shape: torch.Size([4, 64, 512])\n"
     ]
    }
   ],
   "source": [
    "# --- Usage Example ---\n",
    "d_model = 512\n",
    "num_heads = 32\n",
    "num_groups = 4 # e.g., Llama 2 7B uses 4 groups for 32 heads\n",
    "batch_size = 4\n",
    "seq_len = 64\n",
    "\n",
    "gqa_layer = GroupedQueryAttention(d_model, num_heads, num_groups)\n",
    "dummy_input = torch.randn(batch_size, seq_len, d_model)\n",
    "output = gqa_layer(dummy_input)\n",
    "\n",
    "print(\"GQA Layer successful!\")\n",
    "print(f\"Input shape: {dummy_input.shape}\")\n",
    "print(f\"Output shape: {output.shape}\")\n",
    "     "
   ]
  },
  {
   "cell_type": "markdown",
   "id": "156354b5",
   "metadata": {},
   "source": [
    "## Implementing Grouped-Query Attention (GQA)\n",
    "\n",
    "The code below implements a Grouped-Query Attention layer from scratch. Note the key differences:\n",
    "\n",
    "Query projection (self.W_q) still maps to the full model dimension\n",
    "\n",
    "Key and value projections (self.W_k and self.W_v) map to self.num_groups * self.d_head\n",
    "We use repeat_interleave() to match each key and value group with its corresponding query heads\n",
    "This implementation demonstrates how GQA balances between standard multi-head attention and MQA:\n",
    "\n",
    "Fewer K,V projections than standard attention (reduced by factor of num_heads/num_groups)\n",
    "More K,V diversity than MQA (one set per group rather than just one shared)\n",
    "DeepSeek models use this approach to maintain quality while reducing memory requirements, especially for the KV cache"
   ]
  },
  {
   "cell_type": "code",
   "execution_count": null,
   "id": "2fcbe841",
   "metadata": {},
   "outputs": [],
   "source": []
  }
 ],
 "metadata": {
  "kernelspec": {
   "display_name": "idk",
   "language": "python",
   "name": "python3"
  },
  "language_info": {
   "codemirror_mode": {
    "name": "ipython",
    "version": 3
   },
   "file_extension": ".py",
   "mimetype": "text/x-python",
   "name": "python",
   "nbconvert_exporter": "python",
   "pygments_lexer": "ipython3",
   "version": "3.11.10"
  }
 },
 "nbformat": 4,
 "nbformat_minor": 5
}
